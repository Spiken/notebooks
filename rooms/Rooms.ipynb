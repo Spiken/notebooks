{
 "cells": [
  {
   "cell_type": "markdown",
   "metadata": {},
   "source": [
    "# Teams and Hotels\n",
    "\n",
    "Playing around with a backtracking algorithm to solve the problem of assigning teams to hotels during an athletics event. "
   ]
  },
  {
   "cell_type": "code",
   "execution_count": 164,
   "metadata": {
    "collapsed": true
   },
   "outputs": [],
   "source": [
    "import pandas\n",
    "import numpy as np"
   ]
  },
  {
   "cell_type": "code",
   "execution_count": 165,
   "metadata": {
    "collapsed": true
   },
   "outputs": [],
   "source": [
    "teams = pandas.read_csv('teams.csv') \\\n",
    "    .assign(total = lambda df: df['single'] + df['double'])"
   ]
  },
  {
   "cell_type": "code",
   "execution_count": 172,
   "metadata": {
    "collapsed": true
   },
   "outputs": [],
   "source": [
    "# TODO: use DataFrame?\n",
    "hotels = [\n",
    "    {\n",
    "        'name': 'Hotel A',\n",
    "        'capacity_single': 80,\n",
    "        'capacity_double': 50,\n",
    "    },\n",
    "    {\n",
    "        'name': 'Hotel B',\n",
    "        'capacity_single': 40,\n",
    "        'capacity_double': 20,\n",
    "    },\n",
    "    {\n",
    "        'name': 'Hotel C',\n",
    "        'capacity_single': 40,\n",
    "        'capacity_double': 20,\n",
    "    },\n",
    "    {\n",
    "        'name': 'Hotel D',\n",
    "        'capacity_single': 80,\n",
    "        'capacity_double': 55,\n",
    "    },\n",
    "    \n",
    "]\n"
   ]
  },
  {
   "cell_type": "code",
   "execution_count": 173,
   "metadata": {
    "collapsed": true
   },
   "outputs": [],
   "source": [
    "teams.sort_values(['total'], ascending=False, inplace=True)"
   ]
  },
  {
   "cell_type": "code",
   "execution_count": 180,
   "metadata": {
    "collapsed": true
   },
   "outputs": [],
   "source": [
    "from itertools import cycle, islice\n",
    "\n",
    "def solve(hotels, teams):\n",
    "    for hotel in hotels:\n",
    "        hotel['remaining_single'] = hotel['capacity_single']\n",
    "        hotel['remaining_double'] = hotel['capacity_double']\n",
    "\n",
    "    teams_hotels = teams.assign(hotel=None).reset_index(drop=True)\n",
    "    \n",
    "    if not place_team(hotels, teams_hotels, 0):\n",
    "        return 'No solution exists.'\n",
    "    else:\n",
    "        return teams_hotels\n",
    "    \n",
    "def cycle_hotels(hotels, i):\n",
    "    # - First hotel is tried first (should be filled to capacity)\n",
    "    # - Round-robin through the other hotels\n",
    "    cycled_hotels = hotels[:1]\n",
    "    num_cycled_hotels = len(hotels) - 1\n",
    "    offset = i % num_cycled_hotels\n",
    "    cycled_hotels += islice(cycle(hotels[1:]), offset, offset + num_cycled_hotels)\n",
    "    return cycled_hotels\n",
    "    \n",
    "def place_team(hotels, teams_hotels, i):\n",
    "    if i >= len(teams_hotels):\n",
    "        # Exit condition -- all teams have been placed\n",
    "        return True\n",
    "    \n",
    "    t = teams_hotels.loc[i]\n",
    "\n",
    "    cycled_hotels = cycle_hotels(hotels, i)\n",
    "\n",
    "    for hotel in cycled_hotels:\n",
    "        if can_place_team(hotel, t):\n",
    "            teams_hotels.loc[i, 'hotel'] = hotel['name']\n",
    "            hotel['remaining_single'] -= t['single']\n",
    "            hotel['remaining_double'] -= t['double']\n",
    "            \n",
    "            if place_team(hotels, teams_hotels, i + 1):\n",
    "                return True\n",
    "            \n",
    "            # Backtrack\n",
    "            teams_hotels.loc[i, 'hotel'] = None\n",
    "            hotel['remaining_single'] += t['single']\n",
    "            hotel['remaining_double'] += t['double']\n",
    "            \n",
    "    return False\n",
    "\n",
    "def can_place_team(hotel, team):\n",
    "    return team['hotel'] is None and \\\n",
    "           hotel['remaining_single'] >= team['single'] and \\\n",
    "           hotel['remaining_double'] >= team['double']\n"
   ]
  },
  {
   "cell_type": "code",
   "execution_count": 181,
   "metadata": {},
   "outputs": [
    {
     "name": "stdout",
     "output_type": "stream",
     "text": [
      "team       GBR\n",
      "single      30\n",
      "double      55\n",
      "total       85\n",
      "hotel     None\n",
      "Name: 0, dtype: object\n",
      "team       GER\n",
      "single      50\n",
      "double      10\n",
      "total       60\n",
      "hotel     None\n",
      "Name: 1, dtype: object\n",
      "team       HUN\n",
      "single      10\n",
      "double      35\n",
      "total       45\n",
      "hotel     None\n",
      "Name: 2, dtype: object\n",
      "team       SWE\n",
      "single      20\n",
      "double       0\n",
      "total       20\n",
      "hotel     None\n",
      "Name: 3, dtype: object\n",
      "team       NOR\n",
      "single      10\n",
      "double      10\n",
      "total       20\n",
      "hotel     None\n",
      "Name: 4, dtype: object\n",
      "team       FIN\n",
      "single      10\n",
      "double       5\n",
      "total       15\n",
      "hotel     None\n",
      "Name: 5, dtype: object\n",
      "team       ISL\n",
      "single       5\n",
      "double       5\n",
      "total       10\n",
      "hotel     None\n",
      "Name: 6, dtype: object\n"
     ]
    },
    {
     "data": {
      "text/html": [
       "<div>\n",
       "<style>\n",
       "    .dataframe thead tr:only-child th {\n",
       "        text-align: right;\n",
       "    }\n",
       "\n",
       "    .dataframe thead th {\n",
       "        text-align: left;\n",
       "    }\n",
       "\n",
       "    .dataframe tbody tr th {\n",
       "        vertical-align: top;\n",
       "    }\n",
       "</style>\n",
       "<table border=\"1\" class=\"dataframe\">\n",
       "  <thead>\n",
       "    <tr style=\"text-align: right;\">\n",
       "      <th></th>\n",
       "      <th>team</th>\n",
       "      <th>single</th>\n",
       "      <th>double</th>\n",
       "      <th>total</th>\n",
       "      <th>hotel</th>\n",
       "    </tr>\n",
       "  </thead>\n",
       "  <tbody>\n",
       "    <tr>\n",
       "      <th>0</th>\n",
       "      <td>GBR</td>\n",
       "      <td>30</td>\n",
       "      <td>55</td>\n",
       "      <td>85</td>\n",
       "      <td>Hotel D</td>\n",
       "    </tr>\n",
       "    <tr>\n",
       "      <th>1</th>\n",
       "      <td>GER</td>\n",
       "      <td>50</td>\n",
       "      <td>10</td>\n",
       "      <td>60</td>\n",
       "      <td>Hotel A</td>\n",
       "    </tr>\n",
       "    <tr>\n",
       "      <th>2</th>\n",
       "      <td>HUN</td>\n",
       "      <td>10</td>\n",
       "      <td>35</td>\n",
       "      <td>45</td>\n",
       "      <td>Hotel A</td>\n",
       "    </tr>\n",
       "    <tr>\n",
       "      <th>3</th>\n",
       "      <td>SWE</td>\n",
       "      <td>20</td>\n",
       "      <td>0</td>\n",
       "      <td>20</td>\n",
       "      <td>Hotel A</td>\n",
       "    </tr>\n",
       "    <tr>\n",
       "      <th>4</th>\n",
       "      <td>NOR</td>\n",
       "      <td>10</td>\n",
       "      <td>10</td>\n",
       "      <td>20</td>\n",
       "      <td>Hotel C</td>\n",
       "    </tr>\n",
       "    <tr>\n",
       "      <th>5</th>\n",
       "      <td>FIN</td>\n",
       "      <td>10</td>\n",
       "      <td>5</td>\n",
       "      <td>15</td>\n",
       "      <td>Hotel B</td>\n",
       "    </tr>\n",
       "    <tr>\n",
       "      <th>6</th>\n",
       "      <td>ISL</td>\n",
       "      <td>5</td>\n",
       "      <td>5</td>\n",
       "      <td>10</td>\n",
       "      <td>Hotel B</td>\n",
       "    </tr>\n",
       "  </tbody>\n",
       "</table>\n",
       "</div>"
      ],
      "text/plain": [
       "  team  single  double  total    hotel\n",
       "0  GBR      30      55     85  Hotel D\n",
       "1  GER      50      10     60  Hotel A\n",
       "2  HUN      10      35     45  Hotel A\n",
       "3  SWE      20       0     20  Hotel A\n",
       "4  NOR      10      10     20  Hotel C\n",
       "5  FIN      10       5     15  Hotel B\n",
       "6  ISL       5       5     10  Hotel B"
      ]
     },
     "execution_count": 181,
     "metadata": {},
     "output_type": "execute_result"
    }
   ],
   "source": [
    "solve(hotels, teams)"
   ]
  },
  {
   "cell_type": "code",
   "execution_count": 176,
   "metadata": {},
   "outputs": [
    {
     "data": {
      "text/plain": [
       "[{'capacity_double': 50,\n",
       "  'capacity_single': 80,\n",
       "  'name': 'Hotel A',\n",
       "  'remaining_double': 5,\n",
       "  'remaining_single': 0},\n",
       " {'capacity_double': 20,\n",
       "  'capacity_single': 40,\n",
       "  'name': 'Hotel B',\n",
       "  'remaining_double': 10,\n",
       "  'remaining_single': 25},\n",
       " {'capacity_double': 20,\n",
       "  'capacity_single': 40,\n",
       "  'name': 'Hotel C',\n",
       "  'remaining_double': 10,\n",
       "  'remaining_single': 30},\n",
       " {'capacity_double': 55,\n",
       "  'capacity_single': 80,\n",
       "  'name': 'Hotel D',\n",
       "  'remaining_double': 0,\n",
       "  'remaining_single': 50}]"
      ]
     },
     "execution_count": 176,
     "metadata": {},
     "output_type": "execute_result"
    }
   ],
   "source": [
    "hotels"
   ]
  },
  {
   "cell_type": "code",
   "execution_count": null,
   "metadata": {
    "collapsed": true
   },
   "outputs": [],
   "source": []
  }
 ],
 "metadata": {
  "kernelspec": {
   "display_name": "Python 3",
   "language": "python",
   "name": "python3"
  },
  "language_info": {
   "codemirror_mode": {
    "name": "ipython",
    "version": 3
   },
   "file_extension": ".py",
   "mimetype": "text/x-python",
   "name": "python",
   "nbconvert_exporter": "python",
   "pygments_lexer": "ipython3",
   "version": "3.6.1"
  }
 },
 "nbformat": 4,
 "nbformat_minor": 2
}
