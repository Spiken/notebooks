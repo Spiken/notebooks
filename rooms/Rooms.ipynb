{
 "cells": [
  {
   "cell_type": "markdown",
   "metadata": {},
   "source": [
    "# Teams and Hotels\n",
    "\n",
    "Playing around with a backtracking algorithm to solve the problem of assigning teams to hotels during an athletics event. "
   ]
  },
  {
   "cell_type": "code",
   "execution_count": 113,
   "metadata": {
    "collapsed": true
   },
   "outputs": [],
   "source": [
    "import pandas\n",
    "import numpy as np"
   ]
  },
  {
   "cell_type": "code",
   "execution_count": 114,
   "metadata": {
    "collapsed": true
   },
   "outputs": [],
   "source": [
    "teams = pandas.read_csv('teams.csv') \\\n",
    "    .assign(total = lambda df: df['single'] + df['double'])"
   ]
  },
  {
   "cell_type": "code",
   "execution_count": 115,
   "metadata": {},
   "outputs": [],
   "source": [
    "hotels = pandas.read_csv('hotels.csv', sep=';')"
   ]
  },
  {
   "cell_type": "code",
   "execution_count": 116,
   "metadata": {},
   "outputs": [
    {
     "data": {
      "text/html": [
       "<div>\n",
       "<style>\n",
       "    .dataframe thead tr:only-child th {\n",
       "        text-align: right;\n",
       "    }\n",
       "\n",
       "    .dataframe thead th {\n",
       "        text-align: left;\n",
       "    }\n",
       "\n",
       "    .dataframe tbody tr th {\n",
       "        vertical-align: top;\n",
       "    }\n",
       "</style>\n",
       "<table border=\"1\" class=\"dataframe\">\n",
       "  <thead>\n",
       "    <tr style=\"text-align: right;\">\n",
       "      <th></th>\n",
       "      <th>name</th>\n",
       "      <th>capacity_single</th>\n",
       "      <th>capacity_double</th>\n",
       "    </tr>\n",
       "  </thead>\n",
       "  <tbody>\n",
       "    <tr>\n",
       "      <th>0</th>\n",
       "      <td>Hotel A</td>\n",
       "      <td>80</td>\n",
       "      <td>50</td>\n",
       "    </tr>\n",
       "    <tr>\n",
       "      <th>1</th>\n",
       "      <td>Hotel B</td>\n",
       "      <td>40</td>\n",
       "      <td>20</td>\n",
       "    </tr>\n",
       "    <tr>\n",
       "      <th>2</th>\n",
       "      <td>Hotel C</td>\n",
       "      <td>40</td>\n",
       "      <td>20</td>\n",
       "    </tr>\n",
       "    <tr>\n",
       "      <th>3</th>\n",
       "      <td>Hotel D</td>\n",
       "      <td>80</td>\n",
       "      <td>55</td>\n",
       "    </tr>\n",
       "  </tbody>\n",
       "</table>\n",
       "</div>"
      ],
      "text/plain": [
       "      name  capacity_single  capacity_double\n",
       "0  Hotel A               80               50\n",
       "1  Hotel B               40               20\n",
       "2  Hotel C               40               20\n",
       "3  Hotel D               80               55"
      ]
     },
     "execution_count": 116,
     "metadata": {},
     "output_type": "execute_result"
    }
   ],
   "source": [
    "hotels"
   ]
  },
  {
   "cell_type": "code",
   "execution_count": 119,
   "metadata": {},
   "outputs": [],
   "source": [
    "def solve(hotels, teams):\n",
    "    # keep track of state in the dataframes themselves0\n",
    "    teams_hotels = teams \\\n",
    "        .sort_values(['total'], ascending=False) \\\n",
    "        .assign(hotel=None).reset_index(drop=True)\n",
    "    hotels_and_room_state = hotels \\\n",
    "        .assign(remaining_single = lambda df: df['capacity_single']) \\\n",
    "        .assign(remaining_double = lambda df: df['capacity_double'])\n",
    "    \n",
    "    if not place_team(hotels_and_room_state, teams_hotels, 0):\n",
    "        return 'No solution exists.'\n",
    "    else:\n",
    "        return (hotels_and_room_state, teams_hotels)\n",
    "    \n",
    "def cycle_hotels(hotels, offset):\n",
    "    # First hotel is tried first (should be filled to capacity)\n",
    "    new_indexes = [0]\n",
    "    # Round-robin through the other hotels\n",
    "    curr = offset + 1\n",
    "    for _ in range(len(hotels) - 1):\n",
    "        new_indexes.append(curr)\n",
    "        curr += 1\n",
    "        if curr == len(hotels):\n",
    "            curr = 1\n",
    "    return hotels.reindex(new_indexes)\n",
    "    \n",
    "def place_team(hotels, teams_hotels, team_idx):\n",
    "    if team_idx >= len(teams_hotels):\n",
    "        # Exit condition -- all teams have been placed\n",
    "        return True\n",
    "    \n",
    "    t = teams_hotels.loc[team_idx]\n",
    "\n",
    "    cycled_hotels = cycle_hotels(hotels, team_idx % len(hotels))\n",
    "\n",
    "    for hotel_idx, hotel in cycled_hotels.iterrows():\n",
    "        if can_place_team(t, hotel):\n",
    "            teams_hotels.loc[team_idx, 'hotel'] = hotel['name']\n",
    "            hotels.loc[hotel_idx, 'remaining_single'] -= t['single']\n",
    "            hotels.loc[hotel_idx, 'remaining_double'] -= t['double']\n",
    "            \n",
    "            if place_team(hotels, teams_hotels, team_idx + 1):\n",
    "                return True\n",
    "            \n",
    "            # Backtrack\n",
    "            teams_hotels.loc[team_idx, 'hotel'] = None\n",
    "            hotels.loc[hotel_idx, 'remaining_single'] += t['single']\n",
    "            hotels.loc[hotel_idx, 'remaining_double'] += t['double']\n",
    "            \n",
    "    return False\n",
    "\n",
    "def can_place_team(team, hotel):\n",
    "    return team['hotel'] is None and \\\n",
    "           hotel['remaining_single'] >= team['single'] and \\\n",
    "           hotel['remaining_double'] >= team['double']\n",
    "    \n"
   ]
  },
  {
   "cell_type": "code",
   "execution_count": 120,
   "metadata": {},
   "outputs": [],
   "source": [
    "hotels, teams = solve(hotels, teams)"
   ]
  },
  {
   "cell_type": "code",
   "execution_count": 121,
   "metadata": {},
   "outputs": [
    {
     "data": {
      "text/html": [
       "<div>\n",
       "<style>\n",
       "    .dataframe thead tr:only-child th {\n",
       "        text-align: right;\n",
       "    }\n",
       "\n",
       "    .dataframe thead th {\n",
       "        text-align: left;\n",
       "    }\n",
       "\n",
       "    .dataframe tbody tr th {\n",
       "        vertical-align: top;\n",
       "    }\n",
       "</style>\n",
       "<table border=\"1\" class=\"dataframe\">\n",
       "  <thead>\n",
       "    <tr style=\"text-align: right;\">\n",
       "      <th></th>\n",
       "      <th>name</th>\n",
       "      <th>capacity_single</th>\n",
       "      <th>capacity_double</th>\n",
       "      <th>remaining_single</th>\n",
       "      <th>remaining_double</th>\n",
       "    </tr>\n",
       "  </thead>\n",
       "  <tbody>\n",
       "    <tr>\n",
       "      <th>0</th>\n",
       "      <td>Hotel A</td>\n",
       "      <td>80</td>\n",
       "      <td>50</td>\n",
       "      <td>0</td>\n",
       "      <td>5</td>\n",
       "    </tr>\n",
       "    <tr>\n",
       "      <th>1</th>\n",
       "      <td>Hotel B</td>\n",
       "      <td>40</td>\n",
       "      <td>20</td>\n",
       "      <td>25</td>\n",
       "      <td>5</td>\n",
       "    </tr>\n",
       "    <tr>\n",
       "      <th>2</th>\n",
       "      <td>Hotel C</td>\n",
       "      <td>40</td>\n",
       "      <td>20</td>\n",
       "      <td>30</td>\n",
       "      <td>15</td>\n",
       "    </tr>\n",
       "    <tr>\n",
       "      <th>3</th>\n",
       "      <td>Hotel D</td>\n",
       "      <td>80</td>\n",
       "      <td>55</td>\n",
       "      <td>50</td>\n",
       "      <td>0</td>\n",
       "    </tr>\n",
       "  </tbody>\n",
       "</table>\n",
       "</div>"
      ],
      "text/plain": [
       "      name  capacity_single  capacity_double  remaining_single  \\\n",
       "0  Hotel A               80               50                 0   \n",
       "1  Hotel B               40               20                25   \n",
       "2  Hotel C               40               20                30   \n",
       "3  Hotel D               80               55                50   \n",
       "\n",
       "   remaining_double  \n",
       "0                 5  \n",
       "1                 5  \n",
       "2                15  \n",
       "3                 0  "
      ]
     },
     "execution_count": 121,
     "metadata": {},
     "output_type": "execute_result"
    }
   ],
   "source": [
    "hotels"
   ]
  },
  {
   "cell_type": "code",
   "execution_count": 122,
   "metadata": {},
   "outputs": [
    {
     "data": {
      "text/html": [
       "<div>\n",
       "<style>\n",
       "    .dataframe thead tr:only-child th {\n",
       "        text-align: right;\n",
       "    }\n",
       "\n",
       "    .dataframe thead th {\n",
       "        text-align: left;\n",
       "    }\n",
       "\n",
       "    .dataframe tbody tr th {\n",
       "        vertical-align: top;\n",
       "    }\n",
       "</style>\n",
       "<table border=\"1\" class=\"dataframe\">\n",
       "  <thead>\n",
       "    <tr style=\"text-align: right;\">\n",
       "      <th></th>\n",
       "      <th>team</th>\n",
       "      <th>single</th>\n",
       "      <th>double</th>\n",
       "      <th>total</th>\n",
       "      <th>hotel</th>\n",
       "    </tr>\n",
       "  </thead>\n",
       "  <tbody>\n",
       "    <tr>\n",
       "      <th>0</th>\n",
       "      <td>GBR</td>\n",
       "      <td>30</td>\n",
       "      <td>55</td>\n",
       "      <td>85</td>\n",
       "      <td>Hotel D</td>\n",
       "    </tr>\n",
       "    <tr>\n",
       "      <th>1</th>\n",
       "      <td>GER</td>\n",
       "      <td>50</td>\n",
       "      <td>10</td>\n",
       "      <td>60</td>\n",
       "      <td>Hotel A</td>\n",
       "    </tr>\n",
       "    <tr>\n",
       "      <th>2</th>\n",
       "      <td>HUN</td>\n",
       "      <td>10</td>\n",
       "      <td>35</td>\n",
       "      <td>45</td>\n",
       "      <td>Hotel A</td>\n",
       "    </tr>\n",
       "    <tr>\n",
       "      <th>3</th>\n",
       "      <td>SWE</td>\n",
       "      <td>20</td>\n",
       "      <td>0</td>\n",
       "      <td>20</td>\n",
       "      <td>Hotel A</td>\n",
       "    </tr>\n",
       "    <tr>\n",
       "      <th>4</th>\n",
       "      <td>NOR</td>\n",
       "      <td>10</td>\n",
       "      <td>10</td>\n",
       "      <td>20</td>\n",
       "      <td>Hotel B</td>\n",
       "    </tr>\n",
       "    <tr>\n",
       "      <th>5</th>\n",
       "      <td>FIN</td>\n",
       "      <td>10</td>\n",
       "      <td>5</td>\n",
       "      <td>15</td>\n",
       "      <td>Hotel C</td>\n",
       "    </tr>\n",
       "    <tr>\n",
       "      <th>6</th>\n",
       "      <td>ISL</td>\n",
       "      <td>5</td>\n",
       "      <td>5</td>\n",
       "      <td>10</td>\n",
       "      <td>Hotel B</td>\n",
       "    </tr>\n",
       "  </tbody>\n",
       "</table>\n",
       "</div>"
      ],
      "text/plain": [
       "  team  single  double  total    hotel\n",
       "0  GBR      30      55     85  Hotel D\n",
       "1  GER      50      10     60  Hotel A\n",
       "2  HUN      10      35     45  Hotel A\n",
       "3  SWE      20       0     20  Hotel A\n",
       "4  NOR      10      10     20  Hotel B\n",
       "5  FIN      10       5     15  Hotel C\n",
       "6  ISL       5       5     10  Hotel B"
      ]
     },
     "execution_count": 122,
     "metadata": {},
     "output_type": "execute_result"
    }
   ],
   "source": [
    "teams"
   ]
  },
  {
   "cell_type": "code",
   "execution_count": null,
   "metadata": {
    "collapsed": true
   },
   "outputs": [],
   "source": []
  }
 ],
 "metadata": {
  "kernelspec": {
   "display_name": "Python 3",
   "language": "python",
   "name": "python3"
  },
  "language_info": {
   "codemirror_mode": {
    "name": "ipython",
    "version": 3
   },
   "file_extension": ".py",
   "mimetype": "text/x-python",
   "name": "python",
   "nbconvert_exporter": "python",
   "pygments_lexer": "ipython3",
   "version": "3.6.1"
  }
 },
 "nbformat": 4,
 "nbformat_minor": 2
}
