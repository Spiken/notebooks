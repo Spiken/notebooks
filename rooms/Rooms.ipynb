{
 "cells": [
  {
   "cell_type": "markdown",
   "metadata": {},
   "source": [
    "# Teams and Hotels\n",
    "\n",
    "Playing around with a backtracking algorithm to solve the problem of assigning teams to hotels during an athletics event. "
   ]
  },
  {
   "cell_type": "code",
   "execution_count": 113,
   "metadata": {
    "collapsed": true
   },
   "outputs": [],
   "source": [
    "import pandas\n",
    "import numpy as np"
   ]
  },
  {
   "cell_type": "code",
   "execution_count": 114,
   "metadata": {
    "collapsed": true
   },
   "outputs": [],
   "source": [
    "teams = pandas.read_csv('C:/Users/jsmulter/Desktop/test.csv', sep=';') \\\n",
    "    .assign(total = lambda df: df['single'] + df['double'])"
   ]
  },
  {
   "cell_type": "code",
   "execution_count": 115,
   "metadata": {},
   "outputs": [],
   "source": [
    "hotels = pandas.read_csv('hotels.csv', sep=';')"
   ]
  },
  {
   "cell_type": "code",
   "execution_count": 124,
   "metadata": {},
   "outputs": [],
   "source": [
    "def solve(hotels, teams):\n",
    "    # keep track of state in the dataframes themselves0\n",
    "    teams_hotels = teams \\\n",
    "        .sort_values(['total'], ascending=False) \\\n",
    "        .assign(hotel=None).reset_index(drop=True)\n",
    "        \n",
    "    hotels_rooms = hotels \\\n",
    "        .assign(remaining_single = lambda df: df['capacity_single']) \\\n",
    "        .assign(remaining_double = lambda df: df['capacity_double'])\n",
    "    \n",
    "    if not place_team(hotels_rooms, teams_hotels, 0):\n",
    "        return 'No solution exists.'\n",
    "    else:\n",
    "        return (hotels_rooms, teams_hotels)\n",
    "    \n",
    "def cycle_hotels(hotels, offset):\n",
    "    # First hotel is tried first (should be filled to capacity)\n",
    "    new_indexes = [0]\n",
    "    # Round-robin through the other hotels\n",
    "    curr = offset + 1\n",
    "    for _ in range(len(hotels) - 1):\n",
    "        new_indexes.append(curr)\n",
    "        curr += 1\n",
    "        if curr == len(hotels):\n",
    "            curr = 1\n",
    "    return hotels.reindex(new_indexes)\n",
    "    \n",
    "def place_team(hotels, teams_hotels, team_idx):\n",
    "    if team_idx >= len(teams_hotels):\n",
    "        # Exit condition -- all teams have been placed\n",
    "        return True\n",
    "    \n",
    "    t = teams_hotels.loc[team_idx]\n",
    "\n",
    "    cycled_hotels = cycle_hotels(hotels, team_idx % len(hotels))\n",
    "\n",
    "    for hotel_idx, hotel in cycled_hotels.iterrows():\n",
    "        if can_place_team(t, hotel):\n",
    "            teams_hotels.loc[team_idx, 'hotel'] = hotel['name']\n",
    "            hotels.loc[hotel_idx, 'remaining_single'] -= t['single']\n",
    "            hotels.loc[hotel_idx, 'remaining_double'] -= t['double']\n",
    "            \n",
    "            if place_team(hotels, teams_hotels, team_idx + 1):\n",
    "                return True\n",
    "            \n",
    "            # Backtrack\n",
    "            teams_hotels.loc[team_idx, 'hotel'] = None\n",
    "            hotels.loc[hotel_idx, 'remaining_single'] += t['single']\n",
    "            hotels.loc[hotel_idx, 'remaining_double'] += t['double']\n",
    "            \n",
    "    return False\n",
    "\n",
    "def can_place_team(team, hotel):\n",
    "    return team['hotel'] is None and \\\n",
    "           hotel['remaining_single'] >= team['single'] and \\\n",
    "           hotel['remaining_double'] >= team['double']\n",
    "    \n"
   ]
  },
  {
   "cell_type": "code",
   "execution_count": 125,
   "metadata": {},
   "outputs": [],
   "source": [
    "hotels, teams = solve(hotels, teams)"
   ]
  }
 ],
 "metadata": {
  "kernelspec": {
   "display_name": "Python 3",
   "language": "python",
   "name": "python3"
  },
  "language_info": {
   "codemirror_mode": {
    "name": "ipython",
    "version": 3
   },
   "file_extension": ".py",
   "mimetype": "text/x-python",
   "name": "python",
   "nbconvert_exporter": "python",
   "pygments_lexer": "ipython3",
   "version": "3.6.1"
  }
 },
 "nbformat": 4,
 "nbformat_minor": 2
}
